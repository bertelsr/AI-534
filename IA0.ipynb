{
  "cells": [
    {
      "cell_type": "markdown",
      "metadata": {
        "id": "view-in-github",
        "colab_type": "text"
      },
      "source": [
        "<a href=\"https://colab.research.google.com/github/bertelsr/AI-534/blob/main/IA0.ipynb\" target=\"_parent\"><img src=\"https://colab.research.google.com/assets/colab-badge.svg\" alt=\"Open In Colab\"/></a>"
      ]
    },
    {
      "cell_type": "markdown",
      "metadata": {
        "id": "qQPWroguHpww"
      },
      "source": [
        "### AI534 Warm up excercises 0\n",
        "\n",
        "This is a warm-up assignment (individual) for you to get familiar with some basics:\n",
        "1. Using google colab and python notebook to complete implememtation assignments\n",
        "2. Basic packages and functions for working with data, performing simple analysis and plotting.\n",
        "3. Walk you through some such basic steps for getting an intuitive understanding of what your data looks like, which is the first step to tackling any machine learning problem.\n",
        "\n",
        "We will use a data set that contains historic data on houses sold between May 2014 to May 2015. Each house in the data set is described by a set of 20 descriptors of the house (referred to as features or attributes, denoted by **x** mathematically) and taged with the selling price of the house (referred to as the target variable or label, denoted as *y*).\n",
        "\n",
        "Let's get started by importing the necessary packages."
      ]
    },
    {
      "cell_type": "code",
      "execution_count": null,
      "metadata": {
        "id": "RaPpsDsg0FQ6",
        "collapsed": true
      },
      "outputs": [],
      "source": [
        "!pip install nbconvert > /dev/null 2>&1\n",
        "!pip install pdfkit > /dev/null 2>&1\n",
        "!apt-get install -y wkhtmltopdf > /dev/null 2>&1\n",
        "import os\n",
        "import pdfkit\n",
        "import contextlib\n",
        "import sys\n",
        "from google.colab import files\n",
        "import matplotlib.pyplot as plt\n",
        "import numpy as np\n",
        "import pandas as pd\n"
      ]
    },
    {
      "cell_type": "markdown",
      "metadata": {
        "id": "sW4-ISm8by8d"
      },
      "source": [
        "### Follow along step 1: accessing and loading the data\n",
        "\n",
        "First, you need to download the file ia0_train.csv (provided on canvas) to your google drive. To allow the colab to access your google drive, you need to mount Google Drive from your notebook:\n",
        "\n"
      ]
    },
    {
      "cell_type": "code",
      "execution_count": null,
      "metadata": {
        "id": "XRxHwGyQKcXL"
      },
      "outputs": [],
      "source": [
        "from google.colab import drive\n",
        "drive.mount('/content/gdrive')"
      ]
    },
    {
      "cell_type": "markdown",
      "metadata": {
        "id": "t0moOhIQKlyt"
      },
      "source": [
        "Set the path to the data file:"
      ]
    },
    {
      "cell_type": "code",
      "execution_count": null,
      "metadata": {
        "id": "aOj9X3KfKohS"
      },
      "outputs": [],
      "source": [
        "file_path='/content/gdrive/MyDrive/AI534/ia0_train.csv' #please use the same path to store your data file to avoid needing modification to run your code."
      ]
    },
    {
      "cell_type": "markdown",
      "metadata": {
        "id": "hVpRLDYhKaHc"
      },
      "source": [
        "Now load the csv data into a DataFrame, and take a look to see what it looks like."
      ]
    },
    {
      "cell_type": "code",
      "execution_count": null,
      "metadata": {
        "id": "opCAze4g0Srs"
      },
      "outputs": [],
      "source": [
        "raw_data = pd.read_csv(file_path)\n",
        "raw_data"
      ]
    },
    {
      "cell_type": "code",
      "execution_count": null,
      "metadata": {
        "id": "F0549KBMnMox"
      },
      "outputs": [],
      "source": [
        "#you can see the data type for each column\n",
        "raw_data.dtypes"
      ]
    },
    {
      "cell_type": "markdown",
      "metadata": {
        "id": "X8ZCsNAA1Q4z"
      },
      "source": [
        "### Follow along step 2: Understanding and preprocessing the data\n",
        "\n",
        "As you can see from the output of the previous cell, there are 10k examples, each with 21 columns in this csv file. The column 'price' stores the price of the house, which we hope our model can learn to predict. The other columns are considered the input features (or attributes). Before feeding this data to a machine learning algorithm to learn a model, it is always a good idea to examine the features, as **features are not always useful** and also they might be in a format that is not well suited for our learning algorithm to consume.\n",
        "Here are two immediate issues in this regard:\n",
        "1. The ID feature is a unique identifyer assigned to each example, hence it carries no useful information for generalization and should not be included as a feature for machine learning.  You should drop this column from the data before feeding to the learning algorithm.\n",
        "\n",
        "2. The date feature is currently in the object format, which means it is string. Most of ML algorithms assume numerical inputs, hence we want to change it into a numerical feautre. Here please break the date string into three separate numerical values representing the Month, day and year of sale respectively."
      ]
    },
    {
      "cell_type": "code",
      "execution_count": null,
      "metadata": {
        "id": "u22LdBei0nP3"
      },
      "outputs": [],
      "source": [
        "#1. drop the ID column\n",
        "data_without_id = raw_data.drop(columns=['id'])\n",
        "data_without_id.dtypes"
      ]
    },
    {
      "cell_type": "code",
      "execution_count": null,
      "metadata": {
        "id": "y2lWyJvC1If4"
      },
      "outputs": [],
      "source": [
        "#2. handle the date feature and convert it to datetime\n",
        "data_without_id['date']=pd.to_datetime(data_without_id['date'], format='%m/%d/%Y')\n",
        "#extract month, day, and year into separate columns\n",
        "data_without_id['SaleMonth'] = data_without_id['date'].dt.month\n",
        "data_without_id['SaleDay'] = data_without_id['date'].dt.day\n",
        "data_without_id['SaleYear'] = data_without_id['date'].dt.year\n",
        "#drop the original date column\n",
        "data_without_id=data_without_id.drop(columns=['date'])\n",
        "data_without_id.dtypes"
      ]
    },
    {
      "cell_type": "markdown",
      "metadata": {
        "id": "cG0vL82t7Ocx"
      },
      "source": [
        "### Follow along step 3: check out some specific features\n",
        "\n",
        "The first thing coming to mind when buying a house is the number of rooms, bedrooms, bathrooms, these are going to be among the most important factors deciding the price of a house. So let's check these features out. Specifically, let's take a look at the statistics of these features."
      ]
    },
    {
      "cell_type": "code",
      "execution_count": null,
      "metadata": {
        "id": "Z00iCpU760a8"
      },
      "outputs": [],
      "source": [
        "# Group the data by the 'bedrooms' column and calculate statistics for 'price'\n",
        "bedroom_stats = data_without_id.groupby('bedrooms')['price'].agg(['mean', 'median', 'min', 'max', 'count'])\n",
        "bedroom_stats"
      ]
    },
    {
      "cell_type": "code",
      "execution_count": null,
      "metadata": {
        "id": "esClQnd1_JGS"
      },
      "outputs": [],
      "source": [
        "# Group the data by the 'bathrooms' column and calculate statistics for 'price'\n",
        "bathroom_stats = data_without_id.groupby('bathrooms')['price'].agg(['mean', 'median', 'min', 'max', 'count'])\n",
        "bathroom_stats"
      ]
    },
    {
      "cell_type": "markdown",
      "metadata": {
        "id": "hjV-6PYzWYFh"
      },
      "source": [
        "You can see there are a lot more unique values than one might expect (what is .75 bathroom? I wonder about that too). Now to verify our intuition that more bedroom and bath room leads to higher pricing, we can further visualize the price distribution for each bedroom and bathroom number. This can be achived by grouping price data by the different values of bedrooms, and bathrooms, then use box plots to visualize how prices are distributed, given specific values for the numbers of bedrooms / bathrooms:"
      ]
    },
    {
      "cell_type": "code",
      "execution_count": null,
      "metadata": {
        "id": "23wAWQDzvEqA"
      },
      "outputs": [],
      "source": [
        "# find the unique number of bedrooms in the data\n",
        "unique_bedrooms = sorted(data_without_id['bedrooms'].unique())\n",
        "\n",
        "# Create a box plot of 'price' for each unique number of bedrooms with at least 3 examples\n",
        "plt.figure(figsize=(10, 6))  # Adjust the figure size if needed\n",
        "\n",
        "for num in unique_bedrooms:\n",
        "    bedroom_data = data_without_id[data_without_id['bedrooms'] == num]['price']\n",
        "\n",
        "    # Skip plotting if there are less than 3 examples with this number of bedrooms. you can remove the skipping and see the effect.\n",
        "    if len(bedroom_data) >= 3:\n",
        "        plt.boxplot(bedroom_data, positions=[num], labels=[num], showfliers=True)\n",
        "\n",
        "# Add labels and a title to the plot\n",
        "plt.xlabel('Number of Bedrooms')\n",
        "plt.ylabel('Price')\n",
        "plt.title('Box Plot of Price for Each Number of Bedrooms (Sorted)')\n",
        "\n",
        "# Show the plot\n",
        "plt.show()"
      ]
    },
    {
      "cell_type": "code",
      "execution_count": null,
      "metadata": {
        "id": "sQtLG_o7FDF6"
      },
      "outputs": [],
      "source": [
        "# find the unique number of bathrooms in the data\n",
        "unique_bathrooms = sorted(data_without_id['bathrooms'].unique())\n",
        "\n",
        "# Create a box plot of 'price' for each unique number of bedrooms with at least 3 examples\n",
        "plt.figure(figsize=(15, 6))  # Adjust the figure size if needed\n",
        "\n",
        "for num in unique_bathrooms:\n",
        "    bathroom_data = data_without_id[data_without_id['bathrooms'] == num]['price']\n",
        "\n",
        "    # Skip plotting if there are less than 3 examples with this number of bedrooms\n",
        "    if len(bathroom_data) >= 3:\n",
        "        plt.boxplot(bathroom_data, positions=[num], labels=[num])\n",
        "\n",
        "# Add labels and a title to the plot\n",
        "plt.xlabel('Number of Bathrooms')\n",
        "plt.ylabel('Price')\n",
        "plt.title('Box Plot of Price for Each Number of Bathrooms (Sorted)')\n",
        "\n",
        "# Show the plot\n",
        "plt.show()"
      ]
    },
    {
      "cell_type": "markdown",
      "metadata": {
        "id": "t-5ztxxMPjJu"
      },
      "source": [
        "As can be seen from the results above, the price does appear to adhere to the \"more rooms -> more expensive\" trend. We can also create a heatmap to show the price of the house as a function of the # of bathroom and # of bedrooms using the seaborn package."
      ]
    },
    {
      "cell_type": "code",
      "execution_count": null,
      "metadata": {
        "id": "jA9w0umJowUF"
      },
      "outputs": [],
      "source": [
        "import seaborn as sns\n",
        "\n",
        "# Create a pivot table to prepare data for the heatmap\n",
        "pivot_table = data_without_id.pivot_table(index='bedrooms', columns='bathrooms', values='price', aggfunc='mean')\n",
        "\n",
        "# Create a heatmap using seaborn\n",
        "plt.figure(figsize=(14, 10))  # Adjust the figure size if needed\n",
        "heatmap = sns.heatmap(pivot_table, cmap='YlGnBu', annot=True, fmt='.2f', cbar=True)\n",
        "\n",
        "for text in heatmap.texts:\n",
        "    text.set(rotation=45)\n",
        "\n",
        "# Add labels and a title to the plot\n",
        "plt.xlabel('Number of Bathrooms')\n",
        "plt.ylabel('Number of Bedrooms')\n",
        "plt.title('Price Heatmap by Bedrooms and Bathrooms')\n",
        "\n",
        "# Show the plot\n",
        "plt.show()"
      ]
    },
    {
      "cell_type": "markdown",
      "metadata": {
        "id": "_1YXmBpoowmb"
      },
      "source": [
        "Does the trend follow your expection? Any outliers?\n",
        "\n",
        "**add you answers here**"
      ]
    },
    {
      "cell_type": "markdown",
      "metadata": {
        "id": "JmMmXWDKoe1B"
      },
      "source": [
        "\n",
        "Another intuitively important feature for a house is the square footage of the house. We can plot the price of the house agaist the square footage of the house and see if there is a clear trend as expected."
      ]
    },
    {
      "cell_type": "code",
      "execution_count": null,
      "metadata": {
        "id": "2c9sahcSJbCz"
      },
      "outputs": [],
      "source": [
        "plt.figure(figsize=(10, 6))  # Adjust the figure size if needed\n",
        "plt.scatter(data_without_id['sqft_living'], data_without_id['price'], alpha=0.5)\n",
        "\n",
        "# Add labels and a title to the plot\n",
        "plt.xlabel('Square Footage of Living Space')\n",
        "plt.ylabel('Price')\n",
        "plt.title('Price vs. Square Footage of Living Space')\n",
        "\n",
        "# Show the plot\n",
        "plt.show()"
      ]
    },
    {
      "cell_type": "markdown",
      "metadata": {
        "id": "CMsTPXwiXiAb"
      },
      "source": [
        "Closer inspection reveals that there are several features associated with square footage. Let's see how strongly correlated they are with one another."
      ]
    },
    {
      "cell_type": "code",
      "execution_count": null,
      "metadata": {
        "id": "0Mpe9zFnwvQH"
      },
      "outputs": [],
      "source": [
        "data_without_id[[\"sqft_living\", \"sqft_lot\", \"sqft_living15\", \"sqft_lot15\", \"sqft_above\", \"sqft_basement\"]].corr()"
      ]
    },
    {
      "cell_type": "markdown",
      "metadata": {
        "id": "Dd4gW9MWXmwW"
      },
      "source": [
        "Sqft_living and sqft_above are the two most correlated feautres. We can visualize their relationship by using a scatter plot:"
      ]
    },
    {
      "cell_type": "code",
      "execution_count": null,
      "metadata": {
        "id": "g6vbcn2mxaVR"
      },
      "outputs": [],
      "source": [
        "plt.scatter(data_without_id['sqft_living'].values, data_without_id['sqft_above'].values)\n",
        "plt.xlabel(\"sqft_living\")\n",
        "plt.ylabel(\"sqft_above\")\n",
        "plt.show()"
      ]
    },
    {
      "cell_type": "markdown",
      "metadata": {
        "id": "JG6NQT2NS3qO"
      },
      "source": [
        "When we have features that are highly redundant, it is important to understand the impact of such redundant features to the learning algorithm. We will explore more on this in later assignments."
      ]
    },
    {
      "cell_type": "markdown",
      "metadata": {
        "id": "Sg6vnhek6LGh"
      },
      "source": [
        "### TO DO 1: do a bit exploration of other features on our own (5 pts)\n"
      ]
    },
    {
      "cell_type": "markdown",
      "metadata": {
        "id": "NRkzLquIwVev"
      },
      "source": [
        "TO DO: perform similar analysis to at least two other features of your choice. Use a text box to report your observations and understanding of these features."
      ]
    },
    {
      "cell_type": "code",
      "execution_count": null,
      "metadata": {
        "id": "XYxb2wizy9ay"
      },
      "outputs": [],
      "source": [
        "# put your code here for exploring other feautres. Feel free to use more blocks of text and code"
      ]
    },
    {
      "cell_type": "markdown",
      "metadata": {
        "id": "ztEMxl0no41E"
      },
      "source": [
        "## TO DO 2: handling categorical features (5 pts)\n",
        "Many of the features appear to be numeric but in reality are of discrete nature --- in other words, they are more appropriately viewed as categorical variables. For example:"
      ]
    },
    {
      "cell_type": "code",
      "execution_count": null,
      "metadata": {
        "id": "VmMo2HsxrKqv"
      },
      "outputs": [],
      "source": [
        "unique_zips = sorted(data_without_id['zipcode'].unique())\n",
        "print(unique_zips)"
      ]
    },
    {
      "cell_type": "markdown",
      "metadata": {
        "id": "g1o6Q76rrWWG"
      },
      "source": [
        "Read the following article https://medium.com/aiskunks/categorical-data-encoding-techniques-d6296697a40f\n",
        "to understand the difference between different types of categorical features and approaches to handle categorical features when the learning algorithm requires umerical inputs.\n",
        "\n",
        "Based on the reading above, what features in this data can be considered as \"nominal\" and \"ordinal\" features respectively?\n",
        "\n",
        "Nominal:   **Put your answers here**\n",
        "\n",
        "Ordinal: **put your answers here**"
      ]
    },
    {
      "cell_type": "markdown",
      "metadata": {
        "id": "JCbk3WP1SKqQ"
      },
      "source": [
        "Based on the reading, please suggest a couple of strategies that would be appropriate to handle the zipcode feature.\n",
        "\n",
        "**Put your answers here**"
      ]
    },
    {
      "cell_type": "code",
      "source": [
        "#running this code block will convert this notebook and its outputs into a pdf report.\n",
        "!jupyter nbconvert --to html IA0.ipynb  # you might need to change this path to appropriate value to location your copy of the IA0 notebook\n",
        "\n",
        "input_html = '/content/gdrive/MyDrive/Colab Notebooks/IA0.html' #you might need to change this path accordingly\n",
        "output_pdf = '/content/gdrive/MyDrive/Colab Notebooks/IA0output.pdf' #you might need to change this path or name accordingly\n",
        "\n",
        "# Convert HTML to PDF\n",
        "pdfkit.from_file(input_html, output_pdf)\n",
        "\n",
        "# Download the generated PDF\n",
        "files.download(output_pdf)"
      ],
      "metadata": {
        "id": "VBJ-Uzzk7yIC"
      },
      "execution_count": null,
      "outputs": []
    },
    {
      "cell_type": "code",
      "source": [],
      "metadata": {
        "id": "2vIAA8H0csN2"
      },
      "execution_count": null,
      "outputs": []
    }
  ],
  "metadata": {
    "colab": {
      "provenance": [],
      "include_colab_link": true
    },
    "kernelspec": {
      "display_name": "Python 3",
      "name": "python3"
    },
    "language_info": {
      "name": "python"
    }
  },
  "nbformat": 4,
  "nbformat_minor": 0
}